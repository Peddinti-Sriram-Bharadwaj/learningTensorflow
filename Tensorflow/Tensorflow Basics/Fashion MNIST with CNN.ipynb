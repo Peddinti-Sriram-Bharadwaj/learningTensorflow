{
 "cells": [
  {
   "cell_type": "code",
   "execution_count": 1,
   "id": "b5ff2407",
   "metadata": {},
   "outputs": [],
   "source": [
    "import tensorflow as tf\n",
    "from tensorflow import keras\n",
    "import numpy as np"
   ]
  },
  {
   "cell_type": "code",
   "execution_count": 2,
   "id": "b917007b",
   "metadata": {},
   "outputs": [],
   "source": [
    "class myCallback(tf.keras.callbacks.Callback):\n",
    "    def on_epoch_end(self,epoch, logs = {}):\n",
    "        if(logs.get('loss')<0.4 and logs.get('accuracy')>0.9):\n",
    "            print(\"\\nLoss is low enough so cancelling training!\")\n",
    "            self.model.stop_training = True"
   ]
  },
  {
   "cell_type": "code",
   "execution_count": 3,
   "id": "51823fc5",
   "metadata": {},
   "outputs": [],
   "source": [
    "fashion_mnist = tf.keras.datasets.fashion_mnist\n",
    "(train_images, train_labels), (test_images, test_labels) = fashion_mnist.load_data()"
   ]
  },
  {
   "cell_type": "markdown",
   "id": "9d106d6f",
   "metadata": {},
   "source": [
    "fashion_mnist.load_data() returns a list of two tuples. \n",
    "the first tuple contains train images and train lables,\n",
    "the second tuple contains test images and test labels."
   ]
  },
  {
   "cell_type": "code",
   "execution_count": 4,
   "id": "6c50603e",
   "metadata": {},
   "outputs": [],
   "source": [
    "model = keras.Sequential([keras.layers.Conv2D(filters = 32, kernel_size = (3,3), activation = 'relu', input_shape = (28,28,1)),\n",
    "                          keras.layers.MaxPooling2D(pool_size=(2, 2)),\n",
    "                          keras.layers.Conv2D(filters = 32, kernel_size = (3,3), activation = 'relu'),                     \n",
    "                          keras.layers.Flatten(),\n",
    "                          keras.layers.Dense(10, activation = 'sigmoid'),\n",
    "                          ])"
   ]
  },
  {
   "cell_type": "code",
   "execution_count": 5,
   "id": "cc7251f9",
   "metadata": {},
   "outputs": [],
   "source": [
    "train_images = train_images/255.0\n",
    "test_images = test_images/255.0"
   ]
  },
  {
   "cell_type": "code",
   "execution_count": 6,
   "id": "eb435264",
   "metadata": {},
   "outputs": [
    {
     "name": "stdout",
     "output_type": "stream",
     "text": [
      "Epoch 1/100\n",
      "1875/1875 [==============================] - 21s 11ms/step - loss: 0.4436 - accuracy: 0.8414\n",
      "Epoch 2/100\n",
      "1875/1875 [==============================] - 23s 12ms/step - loss: 0.3021 - accuracy: 0.8924\n",
      "Epoch 3/100\n",
      "1872/1875 [============================>.] - ETA: 0s - loss: 0.2617 - accuracy: 0.9055\n",
      "Loss is low enough so cancelling training!\n",
      "1875/1875 [==============================] - 25s 13ms/step - loss: 0.2618 - accuracy: 0.9055\n"
     ]
    },
    {
     "data": {
      "text/plain": [
       "<keras.src.callbacks.History at 0x1aad2eedb10>"
      ]
     },
     "execution_count": 6,
     "metadata": {},
     "output_type": "execute_result"
    }
   ],
   "source": [
    "model.compile(optimizer = tf.optimizers.Adam(), \n",
    "              loss = 'sparse_categorical_crossentropy',\n",
    "              metrics = ['accuracy'])\n",
    "\n",
    "callbacks = myCallback()\n",
    "\n",
    "model.fit(train_images,train_labels, epochs = 100, callbacks =[callbacks])"
   ]
  },
  {
   "cell_type": "code",
   "execution_count": 7,
   "id": "7bd9b3f2",
   "metadata": {},
   "outputs": [
    {
     "name": "stdout",
     "output_type": "stream",
     "text": [
      "313/313 [==============================] - 2s 5ms/step - loss: 0.2898 - accuracy: 0.8997\n"
     ]
    },
    {
     "data": {
      "text/plain": [
       "[0.28979402780532837, 0.8996999859809875]"
      ]
     },
     "execution_count": 7,
     "metadata": {},
     "output_type": "execute_result"
    }
   ],
   "source": [
    "model.evaluate(test_images, test_labels)"
   ]
  }
 ],
 "metadata": {
  "kernelspec": {
   "display_name": "Python 3 (ipykernel)",
   "language": "python",
   "name": "python3"
  },
  "language_info": {
   "codemirror_mode": {
    "name": "ipython",
    "version": 3
   },
   "file_extension": ".py",
   "mimetype": "text/x-python",
   "name": "python",
   "nbconvert_exporter": "python",
   "pygments_lexer": "ipython3",
   "version": "3.11.2"
  }
 },
 "nbformat": 4,
 "nbformat_minor": 5
}

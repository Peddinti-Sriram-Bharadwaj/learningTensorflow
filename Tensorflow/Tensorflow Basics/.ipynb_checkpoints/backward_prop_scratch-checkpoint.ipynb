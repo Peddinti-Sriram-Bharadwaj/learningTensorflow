{
 "cells": [
  {
   "cell_type": "code",
   "execution_count": 1,
   "id": "97cd63d2",
   "metadata": {},
   "outputs": [],
   "source": [
    "import numpy as np"
   ]
  },
  {
   "cell_type": "code",
   "execution_count": 2,
   "id": "4aef7c03",
   "metadata": {},
   "outputs": [],
   "source": [
    "def sigmoid(x):\n",
    "    return 1 / (1 + np.exp(-x))"
   ]
  },
  {
   "cell_type": "code",
   "execution_count": 3,
   "id": "c8e8beb7",
   "metadata": {},
   "outputs": [],
   "source": [
    "def dsigmoid(x):\n",
    "    return x * (1-x)"
   ]
  },
  {
   "cell_type": "code",
   "execution_count": 4,
   "id": "95d49865",
   "metadata": {},
   "outputs": [],
   "source": [
    "def initialization():\n",
    "    w1 = np.random.rand(2,2)\n",
    "    b1 = np.random.rand(1,2)\n",
    "    w2 = np.random.rand(2,1)\n",
    "    b2 = np.random.rand(1,1)\n",
    "    \n",
    "    return w1, b1, w2, b2\n"
   ]
  },
  {
   "cell_type": "code",
   "execution_count": 5,
   "id": "2668e9a4",
   "metadata": {},
   "outputs": [],
   "source": [
    "def forward_propagation(x, w1, b1, w2, b2):\n",
    "    a1 = np.dot(x,w1) + b1\n",
    "    z1 = sigmoid(a1)\n",
    "    \n",
    "    a2 = np.dot(z1,w2) + b2\n",
    "    z2 = sigmoid(a2)\n",
    "    \n",
    "    return z1, z2"
   ]
  },
  {
   "cell_type": "code",
   "execution_count": 6,
   "id": "882fbbdb",
   "metadata": {},
   "outputs": [],
   "source": [
    "def backward_propagation(x, y, z1, z2, w2):\n",
    "    error2 = y - z2\n",
    "    dz2 = error2*dsigmoid(z2)\n",
    "    \n",
    "    error1 = dz2.dot(w2.T)\n",
    "    dz1 = error1*dsigmoid(z1)\n",
    "    \n",
    "    return dz1,dz2"
   ]
  },
  {
   "cell_type": "code",
   "execution_count": 7,
   "id": "ef614f06",
   "metadata": {},
   "outputs": [],
   "source": [
    "def update_weights(x, w1, b1, w2,b2,z1, dz1, dz2, learning_rate):\n",
    "    w2 += z1.T.dot(dz2)* learning_rate\n",
    "    b2 += np.sum(dz2, axis = 0, keepdims = True)* learning_rate\n",
    "    w1 += x.T.dot(dz1)* learning_rate\n",
    "    b1 += np.sum(dz1, axis = 0, keepdims = True)* learning_rate\n",
    "    \n",
    "    return w1,b1,w2,b2"
   ]
  },
  {
   "cell_type": "code",
   "execution_count": 8,
   "id": "44aa0b51",
   "metadata": {},
   "outputs": [],
   "source": [
    "def train(x, y, iterations, learning_rate):\n",
    "    w1,b1,w2,b2 = initialization()\n",
    "    for i in range(iterations):\n",
    "        z1, z2 = forward_propagation(x,w1,b1,w2,b2)\n",
    "        dz1, dz2 = backward_propagation(x,y,z1,z2,w2)\n",
    "        w1,b1,w2,b2 = update_weights(x,w1,b1,w2,b2,z1,dz1,dz2,learning_rate)\n",
    "    return w1,b1,w2,b2"
   ]
  },
  {
   "cell_type": "code",
   "execution_count": 9,
   "id": "b32390f9",
   "metadata": {},
   "outputs": [],
   "source": [
    "def predict(x,w1,b1,w2,b2):\n",
    "    a1 = np.dot(x,w1) + b1\n",
    "    z1 = sigmoid(a1)\n",
    "    \n",
    "    a2 = np.dot(x,w2) + b2\n",
    "    z2 = sigmoid(a2)\n",
    "    \n",
    "    return np.round(z2)\n",
    "    "
   ]
  },
  {
   "cell_type": "code",
   "execution_count": 10,
   "id": "14e348ce",
   "metadata": {},
   "outputs": [],
   "source": [
    "inputs = np.array([[0, 0], [0, 1], [1, 0], [1, 1]])\n",
    "outputs = np.array([[0], [1], [1], [0]])"
   ]
  },
  {
   "cell_type": "code",
   "execution_count": 11,
   "id": "0ad3cab1",
   "metadata": {},
   "outputs": [
    {
     "name": "stdout",
     "output_type": "stream",
     "text": [
      "[[0.]\n",
      " [1.]\n",
      " [0.]\n",
      " [0.]]\n"
     ]
    }
   ],
   "source": [
    "w1, b1, w2, b2 = train(inputs,outputs, 10000, 0.1)\n",
    "print(predict(inputs,w1,b1,w2,b2))"
   ]
  },
  {
   "cell_type": "code",
   "execution_count": null,
   "id": "386f69f5",
   "metadata": {},
   "outputs": [],
   "source": []
  }
 ],
 "metadata": {
  "kernelspec": {
   "display_name": "Python 3 (ipykernel)",
   "language": "python",
   "name": "python3"
  },
  "language_info": {
   "codemirror_mode": {
    "name": "ipython",
    "version": 3
   },
   "file_extension": ".py",
   "mimetype": "text/x-python",
   "name": "python",
   "nbconvert_exporter": "python",
   "pygments_lexer": "ipython3",
   "version": "3.11.2"
  }
 },
 "nbformat": 4,
 "nbformat_minor": 5
}

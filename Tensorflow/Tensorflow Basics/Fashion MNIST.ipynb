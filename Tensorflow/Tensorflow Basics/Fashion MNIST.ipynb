{
 "cells": [
  {
   "cell_type": "code",
   "execution_count": 1,
   "id": "b5ff2407",
   "metadata": {},
   "outputs": [],
   "source": [
    "import tensorflow as tf\n",
    "from tensorflow import keras\n",
    "import numpy as np"
   ]
  },
  {
   "cell_type": "code",
   "execution_count": 11,
   "id": "b917007b",
   "metadata": {},
   "outputs": [],
   "source": [
    "class myCallback(tf.keras.callbacks.Callback):\n",
    "    def on_epoch_end(self,epoch, logs = {}):\n",
    "        if(logs.get('loss')<0.4 and logs.get('accuracy')>0.9):\n",
    "            print(\"\\nLoss is low enough so cancelling training!\")\n",
    "            self.model.stop_training = True"
   ]
  },
  {
   "cell_type": "code",
   "execution_count": 3,
   "id": "51823fc5",
   "metadata": {},
   "outputs": [],
   "source": [
    "fashion_mnist = tf.keras.datasets.fashion_mnist\n",
    "(train_images, train_labels), (test_images, test_labels) = fashion_mnist.load_data()"
   ]
  },
  {
   "cell_type": "markdown",
   "id": "9d106d6f",
   "metadata": {},
   "source": [
    "fashion_mnist.load_data() returns a list of two tuples. \n",
    "the first tuple contains train images and train lables,\n",
    "the second tuple contains test images and test labels."
   ]
  },
  {
   "cell_type": "code",
   "execution_count": 4,
   "id": "6c50603e",
   "metadata": {},
   "outputs": [],
   "source": [
    "model = keras.Sequential([keras.layers.Flatten(input_shape=(28,28)),\n",
    "                          keras.layers.Dense(128, activation = tf.nn.relu),\n",
    "                          keras.layers.Dense(10, activation = tf.nn.softmax)])"
   ]
  },
  {
   "cell_type": "code",
   "execution_count": 5,
   "id": "cc7251f9",
   "metadata": {},
   "outputs": [],
   "source": [
    "train_images = train_images/255.0\n",
    "test_images = test_images/255.0"
   ]
  },
  {
   "cell_type": "code",
   "execution_count": 12,
   "id": "eb435264",
   "metadata": {},
   "outputs": [
    {
     "name": "stdout",
     "output_type": "stream",
     "text": [
      "Epoch 1/100\n",
      "   1/1875 [..............................] - ETA: 30:43 - loss: 0.4787 - accuracy: 0.7812WARNING:tensorflow:Callback method `on_train_batch_end` is slow compared to the batch time (batch time: 0.0023s vs `on_train_batch_end` time: 0.0027s). Check your callbacks.\n",
      "1875/1875 [==============================] - 12s 6ms/step - loss: 0.3139 - accuracy: 0.8867\n",
      "Epoch 2/100\n",
      "1875/1875 [==============================] - 15s 8ms/step - loss: 0.2966 - accuracy: 0.8914\n",
      "Epoch 3/100\n",
      "1875/1875 [==============================] - 14s 8ms/step - loss: 0.2815 - accuracy: 0.8953\n",
      "Epoch 4/100\n",
      "1875/1875 [==============================] - 12s 6ms/step - loss: 0.2679 - accuracy: 0.8998\n",
      "Epoch 5/100\n",
      "1871/1875 [============================>.] - ETA: 0s - loss: 0.2570 - accuracy: 0.9042\n",
      "Loss is low enough so cancelling training!\n",
      "1875/1875 [==============================] - 12s 6ms/step - loss: 0.2568 - accuracy: 0.9043\n"
     ]
    },
    {
     "data": {
      "text/plain": [
       "<keras.src.callbacks.History at 0x22e80067190>"
      ]
     },
     "execution_count": 12,
     "metadata": {},
     "output_type": "execute_result"
    }
   ],
   "source": [
    "model.compile(optimizer = tf.optimizers.Adam(), \n",
    "              loss = 'sparse_categorical_crossentropy',\n",
    "              metrics = ['accuracy'])\n",
    "\n",
    "callbacks = myCallback()\n",
    "\n",
    "model.fit(train_images,train_labels, epochs = 100, callbacks =[callbacks])"
   ]
  },
  {
   "cell_type": "code",
   "execution_count": 13,
   "id": "7bd9b3f2",
   "metadata": {},
   "outputs": [
    {
     "name": "stdout",
     "output_type": "stream",
     "text": [
      "313/313 [==============================] - 2s 4ms/step - loss: 0.3381 - accuracy: 0.8818\n"
     ]
    },
    {
     "data": {
      "text/plain": [
       "[0.3381202518939972, 0.8817999958992004]"
      ]
     },
     "execution_count": 13,
     "metadata": {},
     "output_type": "execute_result"
    }
   ],
   "source": [
    "model.evaluate(test_images, test_labels)"
   ]
  },
  {
   "cell_type": "code",
   "execution_count": null,
   "id": "d87805dc",
   "metadata": {},
   "outputs": [],
   "source": []
  }
 ],
 "metadata": {
  "kernelspec": {
   "display_name": "Python 3 (ipykernel)",
   "language": "python",
   "name": "python3"
  },
  "language_info": {
   "codemirror_mode": {
    "name": "ipython",
    "version": 3
   },
   "file_extension": ".py",
   "mimetype": "text/x-python",
   "name": "python",
   "nbconvert_exporter": "python",
   "pygments_lexer": "ipython3",
   "version": "3.11.4"
  }
 },
 "nbformat": 4,
 "nbformat_minor": 5
}

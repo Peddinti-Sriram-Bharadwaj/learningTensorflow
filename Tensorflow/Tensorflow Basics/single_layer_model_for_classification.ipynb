{
 "cells": [
  {
   "cell_type": "code",
   "execution_count": 18,
   "id": "7ba2c041",
   "metadata": {},
   "outputs": [],
   "source": [
    "import tensorflow as tf\n",
    "from tensorflow import keras\n",
    "import numpy as np"
   ]
  },
  {
   "cell_type": "code",
   "execution_count": 19,
   "id": "8fbff3f9",
   "metadata": {},
   "outputs": [],
   "source": [
    "class myCallback(keras.callbacks.Callback):\n",
    "    def on_epoch_end(self,epoch,logs = {}):\n",
    "        if logs.get('loss')<0.5 and logs.get('accuracy')>0.85:\n",
    "            self.model.stop_training = True"
   ]
  },
  {
   "cell_type": "code",
   "execution_count": 21,
   "id": "166743c3",
   "metadata": {},
   "outputs": [],
   "source": [
    "fashion_mnist = keras.datasets.fashion_mnist\n",
    "(train_images,train_labels), (test_images,test_labels) = fashion_mnist.load_data()"
   ]
  },
  {
   "cell_type": "code",
   "execution_count": 22,
   "id": "1c9efafb",
   "metadata": {},
   "outputs": [],
   "source": [
    "model = keras.Sequential([keras.layers.Flatten(input_shape = (28,28)),\n",
    "                          keras.layers.Dense(10,input_shape = (784,),activation='sigmoid')\n",
    "                         ])"
   ]
  },
  {
   "cell_type": "code",
   "execution_count": 23,
   "id": "be44a551",
   "metadata": {},
   "outputs": [],
   "source": [
    "train_images = train_images/255.0\n",
    "test_images = test_images/255.0"
   ]
  },
  {
   "cell_type": "code",
   "execution_count": 25,
   "id": "27c4c972",
   "metadata": {},
   "outputs": [],
   "source": [
    "model.compile(optimizer = tf.optimizers.Adam(),\n",
    "              loss = 'sparse_categorical_crossentropy',\n",
    "              metrics = ['accuracy'])\n",
    "                "
   ]
  },
  {
   "cell_type": "code",
   "execution_count": 26,
   "id": "a5fb271b",
   "metadata": {},
   "outputs": [
    {
     "name": "stdout",
     "output_type": "stream",
     "text": [
      "Epoch 1/500\n",
      "1875/1875 [==============================] - 4s 2ms/step - loss: 0.5966 - accuracy: 0.7997\n",
      "Epoch 2/500\n",
      "1875/1875 [==============================] - 3s 2ms/step - loss: 0.4613 - accuracy: 0.8417\n",
      "Epoch 3/500\n",
      "1875/1875 [==============================] - 3s 2ms/step - loss: 0.4360 - accuracy: 0.8493\n",
      "Epoch 4/500\n",
      "1875/1875 [==============================] - 3s 2ms/step - loss: 0.4224 - accuracy: 0.8551\n"
     ]
    },
    {
     "data": {
      "text/plain": [
       "<keras.src.callbacks.History at 0x2128381a910>"
      ]
     },
     "execution_count": 26,
     "metadata": {},
     "output_type": "execute_result"
    }
   ],
   "source": [
    "callbacks = myCallback()\n",
    "model.fit(train_images,train_labels,epochs = 500, callbacks = [callbacks])"
   ]
  },
  {
   "cell_type": "code",
   "execution_count": 27,
   "id": "580fea5e",
   "metadata": {},
   "outputs": [
    {
     "name": "stdout",
     "output_type": "stream",
     "text": [
      "313/313 [==============================] - 1s 2ms/step - loss: 0.4754 - accuracy: 0.8311\n"
     ]
    },
    {
     "data": {
      "text/plain": [
       "[0.4753821790218353, 0.8310999870300293]"
      ]
     },
     "execution_count": 27,
     "metadata": {},
     "output_type": "execute_result"
    }
   ],
   "source": [
    "model.evaluate(test_images,test_labels)"
   ]
  },
  {
   "cell_type": "code",
   "execution_count": 43,
   "id": "a3044122",
   "metadata": {},
   "outputs": [
    {
     "name": "stdout",
     "output_type": "stream",
     "text": [
      "(60000, 28, 28)\n",
      "1/1 [==============================] - 0s 34ms/step\n",
      "0\n"
     ]
    }
   ],
   "source": [
    "print(train_images.shape)\n",
    "outputs = model.predict((train_images[1:2]))\n",
    "output = np.argmax(outputs)\n",
    "print(output)"
   ]
  },
  {
   "cell_type": "code",
   "execution_count": null,
   "id": "f022fb1e",
   "metadata": {},
   "outputs": [],
   "source": []
  }
 ],
 "metadata": {
  "kernelspec": {
   "display_name": "Python 3 (ipykernel)",
   "language": "python",
   "name": "python3"
  },
  "language_info": {
   "codemirror_mode": {
    "name": "ipython",
    "version": 3
   },
   "file_extension": ".py",
   "mimetype": "text/x-python",
   "name": "python",
   "nbconvert_exporter": "python",
   "pygments_lexer": "ipython3",
   "version": "3.11.2"
  }
 },
 "nbformat": 4,
 "nbformat_minor": 5
}

{
 "cells": [
  {
   "cell_type": "code",
   "execution_count": 4,
   "id": "0a5f6b42",
   "metadata": {},
   "outputs": [],
   "source": [
    "import numpy as np"
   ]
  },
  {
   "cell_type": "code",
   "execution_count": 14,
   "id": "09042e0c",
   "metadata": {},
   "outputs": [],
   "source": [
    "def perceptron(operation,input1, input2):\n",
    "    if operation == 'xor':\n",
    "        weights = np.array([1,-1], dtype = int)\n",
    "        threshold = 0\n",
    "    if operation == 'and':\n",
    "        weights = np.array([1,1], dtype = int)\n",
    "        threshold = 1.1\n",
    "    bias = 0\n",
    "        \n",
    "    x = np.array([input1,input2], dtype = int)\n",
    "    a = abs(np.sum(np.dot(x,weights)) + bias)\n",
    "    z = int(a>threshold)\n",
    "    return z\n",
    "    "
   ]
  },
  {
   "cell_type": "code",
   "execution_count": 21,
   "id": "3e998161",
   "metadata": {},
   "outputs": [
    {
     "name": "stdout",
     "output_type": "stream",
     "text": [
      "0\n"
     ]
    }
   ],
   "source": [
    "print(perceptron('xor',0,0))"
   ]
  }
 ],
 "metadata": {
  "kernelspec": {
   "display_name": "Python 3 (ipykernel)",
   "language": "python",
   "name": "python3"
  },
  "language_info": {
   "codemirror_mode": {
    "name": "ipython",
    "version": 3
   },
   "file_extension": ".py",
   "mimetype": "text/x-python",
   "name": "python",
   "nbconvert_exporter": "python",
   "pygments_lexer": "ipython3",
   "version": "3.11.2"
  }
 },
 "nbformat": 4,
 "nbformat_minor": 5
}

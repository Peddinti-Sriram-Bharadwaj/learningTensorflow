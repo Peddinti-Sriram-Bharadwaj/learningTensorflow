{
 "cells": [
  {
   "cell_type": "code",
   "execution_count": 1,
   "id": "a032b8ea",
   "metadata": {},
   "outputs": [],
   "source": [
    "import tensorflow as tf\n",
    "import numpy as np\n",
    "from tensorflow import keras"
   ]
  },
  {
   "cell_type": "code",
   "execution_count": 2,
   "id": "63a30a67",
   "metadata": {},
   "outputs": [],
   "source": [
    "model = keras.Sequential([keras.layers.Dense(1,input_shape=[1])])\n",
    "model.compile(optimizer = 'adam', loss = 'mean_squared_error')"
   ]
  },
  {
   "cell_type": "code",
   "execution_count": 3,
   "id": "6fda04e6",
   "metadata": {},
   "outputs": [],
   "source": [
    "xs = np.random.random((10000, 1))*21\n",
    "ys = 3*xs - 5"
   ]
  },
  {
   "cell_type": "code",
   "execution_count": 4,
   "id": "36d57c16",
   "metadata": {},
   "outputs": [],
   "source": [
    "model.fit(xs,ys,validation_split=0.2,epochs = 1000, batch_size = 256)"
   ]
  },
  {
   "cell_type": "code",
   "execution_count": 12,
   "id": "a4ffb0a6",
   "metadata": {},
   "outputs": [
    {
     "name": "stdout",
     "output_type": "stream",
     "text": [
      "1/1 [==============================] - 0s 104ms/step\n",
      "2995\n"
     ]
    }
   ],
   "source": [
    "print(round(model.predict([1000])[0][0]))"
   ]
  },
  {
   "cell_type": "code",
   "execution_count": 12,
   "id": "d3044561",
   "metadata": {},
   "outputs": [
    {
     "name": "stdout",
     "output_type": "stream",
     "text": [
      "[[ 5]\n",
      " [ 6]\n",
      " [10]\n",
      " ...\n",
      " [ 9]\n",
      " [ 1]\n",
      " [ 2]]\n",
      "[[ 8]\n",
      " [ 9]\n",
      " [13]\n",
      " ...\n",
      " [12]\n",
      " [ 4]\n",
      " [ 5]]\n"
     ]
    }
   ],
   "source": [
    "import numpy as np\n",
    "\n",
    "# Define the sigmoid function and its derivative\n",
    "def sigmoid(x):\n",
    "    return 1 / (1 + np.exp(-x))\n",
    "\n",
    "def sigmoid_derivative(x):\n",
    "    return x * (1 - x)\n",
    "\n",
    "# Define the training data\n",
    "x_train = np.random.randint(1, 11, size=(10000, 1))\n",
    "y_train = x_train + 3\n",
    "\n",
    "print(x_train)\n",
    "print(y_train)\n",
    "# Define the model architecture\n",
    "input_units = 1\n",
    "hidden_units = 2\n",
    "output_units = 1\n",
    "\n",
    "# Initialize the weights and biases\n",
    "weights_ih = np.random.uniform(size=(input_units, hidden_units))\n",
    "weights_ho = np.random.uniform(size=(hidden_units, output_units))\n",
    "bias_h = np.random.uniform(size=(1, hidden_units))\n",
    "bias_o = np.random.uniform(size=(1, output_units))\n",
    "\n",
    "# Set the learning rate and number of epochs\n",
    "learning_rate = 0.1\n",
    "epochs = 5000\n",
    "\n",
    "# Train the model\n",
    "for epoch in range(epochs):\n",
    "    # Forward propagation\n",
    "    hidden_layer_input = np.dot(x_train, weights_ih) + bias_h\n",
    "    hidden_layer_output = sigmoid(hidden_layer_input)\n",
    "    output_layer_input = np.dot(hidden_layer_output, weights_ho) + bias_o\n",
    "    predicted_output = sigmoid(output_layer_input)\n",
    "\n",
    "    # Calculate the error\n",
    "    error = y_train - predicted_output\n",
    "\n",
    "    # Backpropagation\n",
    "    d_predicted_output = error * sigmoid_derivative(predicted_output)\n",
    "    error_hidden_layer = d_predicted_output.dot(weights_ho.T)\n",
    "    d_hidden_layer = error_hidden_layer * sigmoid_derivative(hidden_layer_output)\n",
    "\n",
    "    # Update the weights and biases\n",
    "    weights_ho += hidden_layer_output.T.dot(d_predicted_output) * learning_rate\n",
    "    bias_o += np.sum(d_predicted_output, axis=0, keepdims=True) * learning_rate\n",
    "    weights_ih += x_train.T.dot(d_hidden_layer) * learning_rate\n",
    "    bias_h += np.sum(d_hidden_layer, axis=0, keepdims=True) * learning_rate\n"
   ]
  },
  {
   "cell_type": "code",
   "execution_count": 13,
   "id": "c1c11e02",
   "metadata": {},
   "outputs": [
    {
     "name": "stdout",
     "output_type": "stream",
     "text": [
      "[[1.]\n",
      " [1.]\n",
      " [1.]\n",
      " ...\n",
      " [1.]\n",
      " [1.]\n",
      " [1.]]\n"
     ]
    }
   ],
   "source": [
    "x_test = np.array([[5], [10], [7]])\n",
    "hidden_layer_input = np.dot(x_test, weights_ih) + bias_h\n",
    "hidden_layer_output = sigmoid(hidden_layer_input)\n",
    "output_layer_input = np.dot(hidden_layer_output, weights_ho) + bias_o\n",
    "print(predicted_output)"
   ]
  },
  {
   "cell_type": "code",
   "execution_count": null,
   "id": "bf20ccef",
   "metadata": {},
   "outputs": [],
   "source": []
  }
 ],
 "metadata": {
  "kernelspec": {
   "display_name": "Python 3 (ipykernel)",
   "language": "python",
   "name": "python3"
  },
  "language_info": {
   "codemirror_mode": {
    "name": "ipython",
    "version": 3
   },
   "file_extension": ".py",
   "mimetype": "text/x-python",
   "name": "python",
   "nbconvert_exporter": "python",
   "pygments_lexer": "ipython3",
   "version": "3.11.2"
  }
 },
 "nbformat": 4,
 "nbformat_minor": 5
}
